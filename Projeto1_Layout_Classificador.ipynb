{
 "cells": [
  {
   "cell_type": "markdown",
   "metadata": {},
   "source": [
    "# Projeto 1 - Ciência dos Dados"
   ]
  },
  {
   "cell_type": "markdown",
   "metadata": {},
   "source": [
    "Nome: _____\n",
    "\n",
    "Nome: _____"
   ]
  },
  {
   "cell_type": "markdown",
   "metadata": {},
   "source": [
    "Atenção: Serão permitidos grupos de três pessoas, mas com uma rubrica mais exigente. Grupos deste tamanho precisarão fazer um questionário de avaliação de trabalho em equipe"
   ]
  },
  {
   "cell_type": "markdown",
   "metadata": {},
   "source": [
    "___\n",
    "Carregando algumas bibliotecas:"
   ]
  },
  {
   "cell_type": "code",
   "execution_count": 280,
   "metadata": {},
   "outputs": [],
   "source": [
    "%matplotlib inline\n",
    "import pandas as pd\n",
    "import matplotlib.pyplot as plt\n",
    "import numpy as np\n",
    "import os\n",
    "import re \n",
    "import string\n",
    "from unidecode import unidecode\n",
    "#lembre-se de baixar unidecode, que não vem com o pacote inicial do Anaconda\n"
   ]
  },
  {
   "cell_type": "code",
   "execution_count": 281,
   "metadata": {
    "scrolled": false
   },
   "outputs": [
    {
     "name": "stdout",
     "output_type": "stream",
     "text": [
      "Esperamos trabalhar no diretório\n",
      "C:\\Users\\gabri\\Downloads\\C.Dados\\c_dados\n"
     ]
    }
   ],
   "source": [
    "print('Esperamos trabalhar no diretório')\n",
    "print(os.getcwd())"
   ]
  },
  {
   "cell_type": "markdown",
   "metadata": {},
   "source": [
    "Carregando a base de dados com os tweets classificados como relevantes e não relevantes:"
   ]
  },
  {
   "cell_type": "code",
   "execution_count": 282,
   "metadata": {},
   "outputs": [],
   "source": [
    "filename = 'Doritos.xlsx'"
   ]
  },
  {
   "cell_type": "code",
   "execution_count": 283,
   "metadata": {},
   "outputs": [
    {
     "data": {
      "text/html": [
       "<div>\n",
       "<style scoped>\n",
       "    .dataframe tbody tr th:only-of-type {\n",
       "        vertical-align: middle;\n",
       "    }\n",
       "\n",
       "    .dataframe tbody tr th {\n",
       "        vertical-align: top;\n",
       "    }\n",
       "\n",
       "    .dataframe thead th {\n",
       "        text-align: right;\n",
       "    }\n",
       "</style>\n",
       "<table border=\"1\" class=\"dataframe\">\n",
       "  <thead>\n",
       "    <tr style=\"text-align: right;\">\n",
       "      <th></th>\n",
       "      <th>Treinamento</th>\n",
       "      <th>categoria</th>\n",
       "      <th>Unnamed: 2</th>\n",
       "      <th>Unnamed: 3</th>\n",
       "      <th>Unnamed: 4</th>\n",
       "      <th>Unnamed: 5</th>\n",
       "    </tr>\n",
       "  </thead>\n",
       "  <tbody>\n",
       "    <tr>\n",
       "      <th>0</th>\n",
       "      <td>meu estômago n deve tá entendo nada pq nove hr...</td>\n",
       "      <td>0</td>\n",
       "      <td>NaN</td>\n",
       "      <td>NaN</td>\n",
       "      <td>0.0</td>\n",
       "      <td>nada relevante</td>\n",
       "    </tr>\n",
       "    <tr>\n",
       "      <th>1</th>\n",
       "      <td>@eucaquinho mt bom com limão cebola sal e doritos</td>\n",
       "      <td>2</td>\n",
       "      <td>NaN</td>\n",
       "      <td>NaN</td>\n",
       "      <td>1.0</td>\n",
       "      <td>pouco relevante</td>\n",
       "    </tr>\n",
       "    <tr>\n",
       "      <th>2</th>\n",
       "      <td>a menina compra tudo da dieta pra no dia segui...</td>\n",
       "      <td>1</td>\n",
       "      <td>NaN</td>\n",
       "      <td>NaN</td>\n",
       "      <td>2.0</td>\n",
       "      <td>relevante</td>\n",
       "    </tr>\n",
       "    <tr>\n",
       "      <th>3</th>\n",
       "      <td>@lonely_napsta nesse capítulo quando ele usa a...</td>\n",
       "      <td>0</td>\n",
       "      <td>NaN</td>\n",
       "      <td>NaN</td>\n",
       "      <td>3.0</td>\n",
       "      <td>extremamente relevante</td>\n",
       "    </tr>\n",
       "    <tr>\n",
       "      <th>4</th>\n",
       "      <td>top 5 melhores snacks segundo eu mesma:\\n1- do...</td>\n",
       "      <td>3</td>\n",
       "      <td>NaN</td>\n",
       "      <td>NaN</td>\n",
       "      <td>NaN</td>\n",
       "      <td>NaN</td>\n",
       "    </tr>\n",
       "  </tbody>\n",
       "</table>\n",
       "</div>"
      ],
      "text/plain": [
       "                                         Treinamento  categoria  Unnamed: 2  \\\n",
       "0  meu estômago n deve tá entendo nada pq nove hr...          0         NaN   \n",
       "1  @eucaquinho mt bom com limão cebola sal e doritos          2         NaN   \n",
       "2  a menina compra tudo da dieta pra no dia segui...          1         NaN   \n",
       "3  @lonely_napsta nesse capítulo quando ele usa a...          0         NaN   \n",
       "4  top 5 melhores snacks segundo eu mesma:\\n1- do...          3         NaN   \n",
       "\n",
       "   Unnamed: 3  Unnamed: 4              Unnamed: 5  \n",
       "0         NaN         0.0          nada relevante  \n",
       "1         NaN         1.0         pouco relevante  \n",
       "2         NaN         2.0               relevante  \n",
       "3         NaN         3.0  extremamente relevante  \n",
       "4         NaN         NaN                     NaN  "
      ]
     },
     "execution_count": 283,
     "metadata": {},
     "output_type": "execute_result"
    }
   ],
   "source": [
    "train = pd.read_excel(filename)\n",
    "train.head(5)"
   ]
  },
  {
   "cell_type": "code",
   "execution_count": 200,
   "metadata": {},
   "outputs": [
    {
     "data": {
      "text/html": [
       "<div>\n",
       "<style scoped>\n",
       "    .dataframe tbody tr th:only-of-type {\n",
       "        vertical-align: middle;\n",
       "    }\n",
       "\n",
       "    .dataframe tbody tr th {\n",
       "        vertical-align: top;\n",
       "    }\n",
       "\n",
       "    .dataframe thead th {\n",
       "        text-align: right;\n",
       "    }\n",
       "</style>\n",
       "<table border=\"1\" class=\"dataframe\">\n",
       "  <thead>\n",
       "    <tr style=\"text-align: right;\">\n",
       "      <th></th>\n",
       "      <th>Teste</th>\n",
       "      <th>categoria</th>\n",
       "    </tr>\n",
       "  </thead>\n",
       "  <tbody>\n",
       "    <tr>\n",
       "      <th>0</th>\n",
       "      <td>noite de sexta bebendo vinho branco em copo de...</td>\n",
       "      <td>2</td>\n",
       "    </tr>\n",
       "    <tr>\n",
       "      <th>1</th>\n",
       "      <td>pq ninguém gosta do doritos verde?</td>\n",
       "      <td>3</td>\n",
       "    </tr>\n",
       "    <tr>\n",
       "      <th>2</th>\n",
       "      <td>@1grillin @txspio oi doritos</td>\n",
       "      <td>0</td>\n",
       "    </tr>\n",
       "    <tr>\n",
       "      <th>3</th>\n",
       "      <td>faze petit gateu pa vomer com doritos amo sext...</td>\n",
       "      <td>2</td>\n",
       "    </tr>\n",
       "    <tr>\n",
       "      <th>4</th>\n",
       "      <td>q vontade de come um doritos</td>\n",
       "      <td>3</td>\n",
       "    </tr>\n",
       "  </tbody>\n",
       "</table>\n",
       "</div>"
      ],
      "text/plain": [
       "                                               Teste  categoria\n",
       "0  noite de sexta bebendo vinho branco em copo de...          2\n",
       "1                 pq ninguém gosta do doritos verde?          3\n",
       "2                       @1grillin @txspio oi doritos          0\n",
       "3  faze petit gateu pa vomer com doritos amo sext...          2\n",
       "4                       q vontade de come um doritos          3"
      ]
     },
     "execution_count": 200,
     "metadata": {},
     "output_type": "execute_result"
    }
   ],
   "source": [
    "test = pd.read_excel(filename, sheet_name = 'Teste')\n",
    "test.head(5)"
   ]
  },
  {
   "cell_type": "markdown",
   "metadata": {},
   "source": [
    "___\n",
    "## Classificador automático de sentimento\n"
   ]
  },
  {
   "cell_type": "markdown",
   "metadata": {},
   "source": [
    "Faça aqui uma descrição do seu produto e o que considerou como relevante ou não relevante na classificação dos tweets.\n",
    "\n",
    "0 =  Nao relevante\n",
    "1 = pouco relevante\n",
    "2 = relevante\n",
    "3 = Extremamente relevante"
   ]
  },
  {
   "cell_type": "markdown",
   "metadata": {},
   "source": [
    "___\n",
    "### Montando um Classificador Naive-Bayes\n",
    "\n",
    "Considerando apenas as mensagens da planilha Treinamento, ensine  seu classificador."
   ]
  },
  {
   "cell_type": "code",
   "execution_count": 355,
   "metadata": {
    "scrolled": true
   },
   "outputs": [],
   "source": [
    "def cleanup(text):\n",
    "    punctuation = '[!-.:?¿;/]' # Note que os sinais [] são delimitadores de um conjunto.\n",
    "    pattern = re.compile(punctuation)\n",
    "    text_subbed = re.sub(pattern, '', text)\n",
    "    limpo = ''\n",
    "    certo = ''\n",
    "    a = list(string.ascii_lowercase)\n",
    "    for palavra in text_subbed.split():\n",
    "        outro = palavra\n",
    "        if '@' in palavra :\n",
    "            outro = ''\n",
    "            limpo += ' ' + outro\n",
    "        else:\n",
    "            limpo += \" \" + outro\n",
    "    for palavra2 in limpo.split():\n",
    "        certo += \" \"\n",
    "        for letra in palavra2:\n",
    "            if (str(letra.encode('utf-8')).count('x')>=2) and unidecode(letra) not in a:\n",
    "                letra2 = \" \" + letra + \" \"\n",
    "                certo += letra2\n",
    "            else:\n",
    "                certo += letra\n",
    "    return certo.lower()\n",
    "\n",
    "tudo = ''\n",
    "nao_relevante = train.loc[train['categoria']==0,['Treinamento']]\n",
    "pouco_relevante = train.loc[train['categoria']==1,['Treinamento']]\n",
    "relevante = train.loc[train['categoria']==2,['Treinamento']]\n",
    "muito_relevante = train.loc[train['categoria']==3,['Treinamento']]\n",
    "\n",
    "lista_nao_relevante = nao_relevante.values.tolist()\n",
    "palavra_nao_relevante = ''\n",
    "for a in lista_nao_relevante:\n",
    "    for palavra in a:\n",
    "        for outro in (palavra.split()):\n",
    "            if '@' in outro :\n",
    "                ''\n",
    "            else:\n",
    "                \n",
    "                palavra_nao_relevante += ' '\n",
    "                palavra_nao_relevante += (outro)\n",
    "tudo += palavra_nao_relevante                \n",
    "lista_palavra_nao_relevante = cleanup(palavra_nao_relevante.lower()).split()\n",
    "\n",
    "\n",
    "lista_pouco_relevante = pouco_relevante.values.tolist()\n",
    "palavra_pouco_relevante = ''\n",
    "for a in lista_pouco_relevante:\n",
    "    for palavra in a:\n",
    "        for outro in (palavra.split()):\n",
    "            if '@' in outro :\n",
    "                ''\n",
    "            else:\n",
    "                palavra_pouco_relevante += ' '\n",
    "                palavra_pouco_relevante += (outro)\n",
    "tudo += palavra_pouco_relevante                \n",
    "lista_palavra_pouco_relevante = cleanup(palavra_pouco_relevante.lower()).split()\n",
    "\n",
    "lista_relevante = relevante.values.tolist()\n",
    "palavra_relevante = ''\n",
    "for a in lista_relevante:\n",
    "    for palavra in a:\n",
    "        for outro in (palavra.split()):\n",
    "            if '@' in outro :\n",
    "                ''\n",
    "            else:\n",
    "                palavra_relevante += ' '\n",
    "                palavra_relevante += (outro)\n",
    "tudo += palavra_relevante                \n",
    "lista_palavra_relevante = cleanup(palavra_relevante.lower()).split()\n",
    "\n",
    "lista_muito_relevante = muito_relevante.values.tolist()\n",
    "palavra_muito_relevante = ''\n",
    "for a in lista_muito_relevante:\n",
    "    for palavra in a:\n",
    "        for outro in (palavra.split()):\n",
    "            if '@' in outro :\n",
    "                ''\n",
    "            else:\n",
    "                palavra_muito_relevante += ' '\n",
    "                palavra_muito_relevante += (outro)\n",
    "tudo += palavra_muito_relevante\n",
    "lista_palavra_muito_relevante = cleanup(palavra_muito_relevante.lower()).split()\n",
    "todas_listas = [lista_palavra_nao_relevante,lista_palavra_pouco_relevante,lista_palavra_relevante,lista_palavra_muito_relevante]"
   ]
  },
  {
   "cell_type": "code",
   "execution_count": null,
   "metadata": {},
   "outputs": [],
   "source": []
  },
  {
   "cell_type": "code",
   "execution_count": null,
   "metadata": {},
   "outputs": [],
   "source": []
  },
  {
   "cell_type": "code",
   "execution_count": 356,
   "metadata": {},
   "outputs": [],
   "source": [
    "serie_nao_relevante = pd.Series(lista_palavra_nao_relevante)\n",
    "tabela_relativa_nao_relevante = serie_nao_relevante.value_counts(True)\n",
    "\n",
    "serie_pouco_relevante = pd.Series(lista_palavra_pouco_relevante)\n",
    "tabela_relativa_pouco_relevante = serie_pouco_relevante.value_counts(True)\n",
    "\n",
    "serie_relevante = pd.Series(lista_palavra_relevante)\n",
    "tabela_relativa_relevante = serie_relevante.value_counts(True)\n",
    "\n",
    "serie_muito_relevante = pd.Series(lista_palavra_muito_relevante)\n",
    "tabela_relativa_muito_relevante = serie_muito_relevante.value_counts(True)\n",
    "\n",
    "lista_tabela_relativas = [tabela_relativa_nao_relevante,tabela_relativa_pouco_relevante,tabela_relativa_relevante,tabela_relativa_muito_relevante]"
   ]
  },
  {
   "cell_type": "code",
   "execution_count": 360,
   "metadata": {},
   "outputs": [],
   "source": [
    "lista_tudo = (cleanup(tudo.lower())).split()"
   ]
  },
  {
   "cell_type": "code",
   "execution_count": 361,
   "metadata": {},
   "outputs": [
    {
     "name": "stdout",
     "output_type": "stream",
     "text": [
      "0.510447361371551\n",
      "0.2400214304848647\n",
      "0.21497455129922313\n",
      "0.03455665684436111\n",
      "1.0\n"
     ]
    }
   ],
   "source": [
    "prob_nao_relevante = len(lista_palavra_nao_relevante)/len(lista_tudo)\n",
    "prob_pouco_relevante = len(lista_palavra_pouco_relevante)/len(lista_tudo)\n",
    "prob_relevante = len(lista_palavra_relevante)/len(lista_tudo)\n",
    "prob_muito_relevante = len(lista_palavra_muito_relevante)/len(lista_tudo)\n",
    "print(prob_nao_relevante)\n",
    "print(prob_pouco_relevante)\n",
    "print(prob_relevante)\n",
    "print(prob_muito_relevante)\n",
    "print((prob_nao_relevante + prob_pouco_relevante + prob_relevante +prob_muito_relevante))"
   ]
  },
  {
   "cell_type": "markdown",
   "metadata": {},
   "source": [
    "___\n",
    "### Verificando a performance do Classificador\n",
    "\n",
    "Agora você deve testar o seu classificador com a base de Testes."
   ]
  },
  {
   "cell_type": "code",
   "execution_count": 362,
   "metadata": {},
   "outputs": [
    {
     "name": "stdout",
     "output_type": "stream",
     "text": [
      "1\n"
     ]
    }
   ],
   "source": [
    "def prob(frase,lista_tabela_relativa, lista_todas, todas_listas):\n",
    "    probabilidade = 1\n",
    "    a = 0\n",
    "    t = 0 \n",
    "    count = 0\n",
    "    y= 0\n",
    "    lista2 = []\n",
    "    multi = 1\n",
    "    for tabela in lista_tabela_relativa:\n",
    "        count = 0\n",
    "        y +=1\n",
    "        multi = 1\n",
    "        for lista in todas_listas:\n",
    "            for palavra in frase.split():\n",
    "                if count >= len(frase.split()) :\n",
    "                        break\n",
    "                if palavra in tabela:\n",
    "                    probabilidade = (1 + tabela[palavra])\n",
    "                    count+=1\n",
    "    \n",
    "                else:\n",
    "                    probabilidade = 1\n",
    "                    count+=1\n",
    "                t+=1\n",
    "                multi *= probabilidade\n",
    "        lista2.append(multi)\n",
    "    if lista2.index(max(lista2)) == 0:\n",
    "        return 0\n",
    "    elif lista2.index(max(lista2)) == 1:\n",
    "        return 1\n",
    "    elif lista2.index(max(lista2)) == 2:\n",
    "        return 2\n",
    "    elif lista2.index(max(lista2)) == 3:\n",
    "        return 3\n",
    "\n",
    "print(prob('3d doritos boi',lista_tabela_relativas,lista_tudo,todas_listas))\n"
   ]
  },
  {
   "cell_type": "code",
   "execution_count": 363,
   "metadata": {},
   "outputs": [
    {
     "data": {
      "text/html": [
       "<div>\n",
       "<style scoped>\n",
       "    .dataframe tbody tr th:only-of-type {\n",
       "        vertical-align: middle;\n",
       "    }\n",
       "\n",
       "    .dataframe tbody tr th {\n",
       "        vertical-align: top;\n",
       "    }\n",
       "\n",
       "    .dataframe thead th {\n",
       "        text-align: right;\n",
       "    }\n",
       "</style>\n",
       "<table border=\"1\" class=\"dataframe\">\n",
       "  <thead>\n",
       "    <tr style=\"text-align: right;\">\n",
       "      <th></th>\n",
       "      <th>Teste</th>\n",
       "      <th>categoria</th>\n",
       "      <th>teste_pc</th>\n",
       "    </tr>\n",
       "  </thead>\n",
       "  <tbody>\n",
       "    <tr>\n",
       "      <th>0</th>\n",
       "      <td>noite de sexta bebendo vinho branco em copo de...</td>\n",
       "      <td>2</td>\n",
       "      <td>1</td>\n",
       "    </tr>\n",
       "    <tr>\n",
       "      <th>1</th>\n",
       "      <td>pq ninguém gosta do doritos verde?</td>\n",
       "      <td>3</td>\n",
       "      <td>1</td>\n",
       "    </tr>\n",
       "    <tr>\n",
       "      <th>2</th>\n",
       "      <td>@1grillin @txspio oi doritos</td>\n",
       "      <td>0</td>\n",
       "      <td>1</td>\n",
       "    </tr>\n",
       "    <tr>\n",
       "      <th>3</th>\n",
       "      <td>faze petit gateu pa vomer com doritos amo sext...</td>\n",
       "      <td>2</td>\n",
       "      <td>3</td>\n",
       "    </tr>\n",
       "    <tr>\n",
       "      <th>4</th>\n",
       "      <td>q vontade de come um doritos</td>\n",
       "      <td>3</td>\n",
       "      <td>1</td>\n",
       "    </tr>\n",
       "  </tbody>\n",
       "</table>\n",
       "</div>"
      ],
      "text/plain": [
       "                                               Teste  categoria  teste_pc\n",
       "0  noite de sexta bebendo vinho branco em copo de...          2         1\n",
       "1                 pq ninguém gosta do doritos verde?          3         1\n",
       "2                       @1grillin @txspio oi doritos          0         1\n",
       "3  faze petit gateu pa vomer com doritos amo sext...          2         3\n",
       "4                       q vontade de come um doritos          3         1"
      ]
     },
     "execution_count": 363,
     "metadata": {},
     "output_type": "execute_result"
    }
   ],
   "source": [
    "lista_f = []\n",
    "for a in test['Teste']:\n",
    "    lista_f.append( prob(cleanup(a),lista_tabela_relativas,lista_tudo,todas_listas))\n",
    "test['teste_pc'] = lista_f\n",
    "test.head(5)"
   ]
  },
  {
   "cell_type": "code",
   "execution_count": 364,
   "metadata": {},
   "outputs": [
    {
     "data": {
      "text/html": [
       "<div>\n",
       "<style scoped>\n",
       "    .dataframe tbody tr th:only-of-type {\n",
       "        vertical-align: middle;\n",
       "    }\n",
       "\n",
       "    .dataframe tbody tr th {\n",
       "        vertical-align: top;\n",
       "    }\n",
       "\n",
       "    .dataframe thead th {\n",
       "        text-align: right;\n",
       "    }\n",
       "</style>\n",
       "<table border=\"1\" class=\"dataframe\">\n",
       "  <thead>\n",
       "    <tr style=\"text-align: right;\">\n",
       "      <th>teste_pc</th>\n",
       "      <th>0</th>\n",
       "      <th>1</th>\n",
       "      <th>2</th>\n",
       "      <th>3</th>\n",
       "    </tr>\n",
       "    <tr>\n",
       "      <th>categoria</th>\n",
       "      <th></th>\n",
       "      <th></th>\n",
       "      <th></th>\n",
       "      <th></th>\n",
       "    </tr>\n",
       "  </thead>\n",
       "  <tbody>\n",
       "    <tr>\n",
       "      <th>0</th>\n",
       "      <td>0.153846</td>\n",
       "      <td>0.466667</td>\n",
       "      <td>0.153846</td>\n",
       "      <td>0.225641</td>\n",
       "    </tr>\n",
       "    <tr>\n",
       "      <th>1</th>\n",
       "      <td>0.011765</td>\n",
       "      <td>0.552941</td>\n",
       "      <td>0.188235</td>\n",
       "      <td>0.247059</td>\n",
       "    </tr>\n",
       "    <tr>\n",
       "      <th>2</th>\n",
       "      <td>0.000000</td>\n",
       "      <td>0.579545</td>\n",
       "      <td>0.147727</td>\n",
       "      <td>0.272727</td>\n",
       "    </tr>\n",
       "    <tr>\n",
       "      <th>3</th>\n",
       "      <td>0.000000</td>\n",
       "      <td>0.406250</td>\n",
       "      <td>0.125000</td>\n",
       "      <td>0.468750</td>\n",
       "    </tr>\n",
       "  </tbody>\n",
       "</table>\n",
       "</div>"
      ],
      "text/plain": [
       "teste_pc          0         1         2         3\n",
       "categoria                                        \n",
       "0          0.153846  0.466667  0.153846  0.225641\n",
       "1          0.011765  0.552941  0.188235  0.247059\n",
       "2          0.000000  0.579545  0.147727  0.272727\n",
       "3          0.000000  0.406250  0.125000  0.468750"
      ]
     },
     "execution_count": 364,
     "metadata": {},
     "output_type": "execute_result"
    }
   ],
   "source": [
    "pd.crosstab(test['categoria'],test['teste_pc'],normalize = 'index')"
   ]
  },
  {
   "cell_type": "code",
   "execution_count": 365,
   "metadata": {},
   "outputs": [
    {
     "data": {
      "text/html": [
       "<div>\n",
       "<style scoped>\n",
       "    .dataframe tbody tr th:only-of-type {\n",
       "        vertical-align: middle;\n",
       "    }\n",
       "\n",
       "    .dataframe tbody tr th {\n",
       "        vertical-align: top;\n",
       "    }\n",
       "\n",
       "    .dataframe thead th {\n",
       "        text-align: right;\n",
       "    }\n",
       "</style>\n",
       "<table border=\"1\" class=\"dataframe\">\n",
       "  <thead>\n",
       "    <tr style=\"text-align: right;\">\n",
       "      <th>teste_pc</th>\n",
       "      <th>0</th>\n",
       "      <th>1</th>\n",
       "      <th>2</th>\n",
       "      <th>3</th>\n",
       "    </tr>\n",
       "    <tr>\n",
       "      <th>categoria</th>\n",
       "      <th></th>\n",
       "      <th></th>\n",
       "      <th></th>\n",
       "      <th></th>\n",
       "    </tr>\n",
       "  </thead>\n",
       "  <tbody>\n",
       "    <tr>\n",
       "      <th>0</th>\n",
       "      <td>30</td>\n",
       "      <td>91</td>\n",
       "      <td>30</td>\n",
       "      <td>44</td>\n",
       "    </tr>\n",
       "    <tr>\n",
       "      <th>1</th>\n",
       "      <td>1</td>\n",
       "      <td>47</td>\n",
       "      <td>16</td>\n",
       "      <td>21</td>\n",
       "    </tr>\n",
       "    <tr>\n",
       "      <th>2</th>\n",
       "      <td>0</td>\n",
       "      <td>51</td>\n",
       "      <td>13</td>\n",
       "      <td>24</td>\n",
       "    </tr>\n",
       "    <tr>\n",
       "      <th>3</th>\n",
       "      <td>0</td>\n",
       "      <td>13</td>\n",
       "      <td>4</td>\n",
       "      <td>15</td>\n",
       "    </tr>\n",
       "  </tbody>\n",
       "</table>\n",
       "</div>"
      ],
      "text/plain": [
       "teste_pc    0   1   2   3\n",
       "categoria                \n",
       "0          30  91  30  44\n",
       "1           1  47  16  21\n",
       "2           0  51  13  24\n",
       "3           0  13   4  15"
      ]
     },
     "execution_count": 365,
     "metadata": {},
     "output_type": "execute_result"
    }
   ],
   "source": [
    "pd.crosstab(test['categoria'],test['teste_pc'])"
   ]
  },
  {
   "cell_type": "code",
   "execution_count": 366,
   "metadata": {},
   "outputs": [
    {
     "name": "stdout",
     "output_type": "stream",
     "text": [
      " A porcentagem de acerto do nosso classificador é : 26.25 %\n"
     ]
    }
   ],
   "source": [
    "g = pd.crosstab(test['categoria'],test['teste_pc'],normalize = True)\n",
    "print(' A porcentagem de acerto do nosso classificador é : {:.2f} %'.format(100*(g[0][0] + g[1][1] + g[2][2] + g[3][3])))\n"
   ]
  },
  {
   "cell_type": "markdown",
   "metadata": {},
   "source": [
    "___\n",
    "### Concluindo"
   ]
  },
  {
   "cell_type": "code",
   "execution_count": 367,
   "metadata": {},
   "outputs": [],
   "source": [
    "# O nosso classificador obteve uma porcentagem de 26,25% de acerto no geral, porém ao analisarmos em cada categoria,\n",
    "# vemos que o nosso classificador teve diferentes performances entre as categorias, por exemplo, vemos que as categorias 3 e 1\n",
    "# tiveram uma maior taxa de acerto(46,87% e 55,29% respectivamente). Agora já nas categorias 0 e 2, vemos uma taxa de acerto de\n",
    "# (15,38% e 14,77% respectivamente). Assim, vemos que a maioria dos tweets foram classificados errados e uma possível correção\n",
    "# para tal seria aumentar nosso banco de dados de treinamento. Outro ponto que podemos ver, é que nosso classificador não\n",
    "# conseguiu diferenciar tweets com ironia, sarcasmo e dupla negação. Nesse caso, tais tweets afetaram o desempenho do nosso classificador.\n"
   ]
  },
  {
   "cell_type": "code",
   "execution_count": 368,
   "metadata": {},
   "outputs": [],
   "source": [
    "# Não pode alimentar a base de treinamento automaticamente usando o próprio classificador, pois o mesmo irá classificar esses\n",
    "# tweets baseado no primeiro banco de dados, deste modo, podendo propagar o erro da primeira base de dados."
   ]
  },
  {
   "cell_type": "code",
   "execution_count": 369,
   "metadata": {},
   "outputs": [],
   "source": [
    "# Podemos usar o classificador para coletar informações sobre o feedback dos clientes de um produto de uma empresa e classificá-los em categorias\n",
    "# Outro exemplo poderia ser filtragem de mensagens de spam."
   ]
  },
  {
   "cell_type": "code",
   "execution_count": 370,
   "metadata": {},
   "outputs": [],
   "source": [
    "# Algumas melhorias que poderiam ser feitas em um classificador seria aumentar a base de dados, pois assim teremos mais precisão\n",
    "# em nossas classificações. Outra melhoria seria remover os links dos tweets, pois acabam interferindo na probabilidade do tweet."
   ]
  },
  {
   "cell_type": "markdown",
   "metadata": {},
   "source": [
    "___\n",
    "### Qualidade do Classificador a partir de novas separações dos tweets entre Treinamento e Teste\n",
    "\n",
    "Caso for fazer esse item do Projeto"
   ]
  },
  {
   "cell_type": "code",
   "execution_count": null,
   "metadata": {},
   "outputs": [],
   "source": []
  },
  {
   "cell_type": "code",
   "execution_count": null,
   "metadata": {},
   "outputs": [],
   "source": []
  },
  {
   "cell_type": "code",
   "execution_count": null,
   "metadata": {},
   "outputs": [],
   "source": []
  },
  {
   "cell_type": "markdown",
   "metadata": {},
   "source": [
    "___\n",
    "## Aperfeiçoamento:\n",
    "\n",
    "Trabalhos que conseguirem pelo menos conceito B vão evoluir em conceito dependendo da quantidade de itens avançados:\n",
    "\n",
    "* IMPLEMENTOU outras limpezas e transformações que não afetem a qualidade da informação contida nos tweets. Ex: stemming, lemmatization, stopwords\n",
    "* CORRIGIU separação de espaços entre palavras e emojis ou entre emojis e emojis\n",
    "* CRIOU categorias intermediárias de relevância baseadas na probabilidade: ex.: muito relevante, relevante, neutro, irrelevante, muito irrelevante. Pelo menos quatro categorias, com adição de mais tweets na base, conforme enunciado. (OBRIGATÓRIO PARA TRIOS, sem contar como item avançado)\n",
    "* EXPLICOU porquê não pode usar o próprio classificador para gerar mais amostras de treinamento\n",
    "* PROPÔS diferentes cenários para Naïve Bayes fora do contexto do projeto\n",
    "* SUGERIU e EXPLICOU melhorias reais com indicações concretas de como implementar (indicar como fazer e indicar material de pesquisa)\n",
    "* FEZ o item 6. Qualidade do Classificador a partir de novas separações dos tweets entre Treinamento e Teste descrito no enunciado do projeto (OBRIGATÓRIO para conceitos A ou A+)"
   ]
  },
  {
   "cell_type": "markdown",
   "metadata": {},
   "source": [
    "___\n",
    "## Referências"
   ]
  },
  {
   "cell_type": "markdown",
   "metadata": {},
   "source": [
    "[Naive Bayes and Text Classification](https://arxiv.org/pdf/1410.5329.pdf)  **Mais completo**\n",
    "\n",
    "[A practical explanation of a Naive Bayes Classifier](https://monkeylearn.com/blog/practical-explanation-naive-bayes-classifier/) **Mais simples**"
   ]
  },
  {
   "cell_type": "code",
   "execution_count": null,
   "metadata": {},
   "outputs": [],
   "source": []
  },
  {
   "cell_type": "code",
   "execution_count": null,
   "metadata": {},
   "outputs": [],
   "source": []
  }
 ],
 "metadata": {
  "kernelspec": {
   "display_name": "Python 3 (ipykernel)",
   "language": "python",
   "name": "python3"
  },
  "language_info": {
   "codemirror_mode": {
    "name": "ipython",
    "version": 3
   },
   "file_extension": ".py",
   "mimetype": "text/x-python",
   "name": "python",
   "nbconvert_exporter": "python",
   "pygments_lexer": "ipython3",
   "version": "3.8.11"
  }
 },
 "nbformat": 4,
 "nbformat_minor": 4
}
